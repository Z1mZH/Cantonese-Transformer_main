{
 "cells": [
  {
   "cell_type": "code",
   "execution_count": 1,
   "id": "11abe3e8",
   "metadata": {
    "ExecuteTime": {
     "end_time": "2025-01-12T06:37:06.454508900Z",
     "start_time": "2025-01-12T06:36:57.079999500Z"
    }
   },
   "outputs": [
    {
     "data": {
      "text/plain": "(tensor([   1,    1,    0, 9178,   32,   47]),\n tensor([0, 0, 1, 1, 1, 1]),\n '<pad><pad><s>how are you')"
     },
     "execution_count": 1,
     "metadata": {},
     "output_type": "execute_result"
    }
   ],
   "source": [
    "import os\n",
    "os.environ[\"HF_ENDPOINT\"] = \"https://hf-mirror.com\"\n",
    "import torch\n",
    "import random\n",
    "import math\n",
    "\n",
    "from util import TokenizerUtil\n",
    "\n",
    "tokenizer = TokenizerUtil()\n",
    "\n",
    "input_ids, _ = tokenizer.encode('how are you', max_length=6)\n",
    "\n",
    "input_ids, attention_mask = tokenizer.pad_to_left(input_ids)\n",
    "\n",
    "input_ids, attention_mask, tokenizer.decode(input_ids)"
   ]
  },
  {
   "cell_type": "code",
   "execution_count": 2,
   "id": "5e7480ae",
   "metadata": {
    "ExecuteTime": {
     "end_time": "2025-01-12T06:37:14.087105200Z",
     "start_time": "2025-01-12T06:37:08.498153600Z"
    }
   },
   "outputs": [
    {
     "data": {
      "text/plain": "Loading checkpoint shards:   0%|          | 0/2 [00:00<?, ?it/s]",
      "application/vnd.jupyter.widget-view+json": {
       "version_major": 2,
       "version_minor": 0,
       "model_id": "845b79c14ac44285bc62426a49faf2e2"
      }
     },
     "metadata": {},
     "output_type": "display_data"
    }
   ],
   "source": [
    "import os\n",
    "os.environ[\"HF_ENDPOINT\"] = \"https://hf-mirror.com\"\n",
    "from transformers import AutoModelForCausalLM\n",
    "\n",
    "model_actor = AutoModelForCausalLM.from_pretrained('model/rlhf',\n",
    "                                                   torch_dtype=torch.float16,\n",
    "                                                   device_map='cuda')"
   ]
  },
  {
   "cell_type": "code",
   "execution_count": 11,
   "id": "fc404ebc",
   "metadata": {
    "ExecuteTime": {
     "end_time": "2025-01-12T07:17:38.045603400Z",
     "start_time": "2025-01-12T07:17:38.011069500Z"
    }
   },
   "outputs": [
    {
     "data": {
      "text/plain": "(32,\n {'prompt': 'Human: 两鬓斑白 都可认得你 Assistant:',\n  'chosen': '兩鬢斑白 都可認得你',\n  'rejected': '两鬓斑白 都可认得你',\n  'response': '兩鬢斑白 都可認得你'})"
     },
     "execution_count": 11,
     "metadata": {},
     "output_type": "execute_result"
    }
   ],
   "source": [
    "import json\n",
    "\n",
    "with open(r'D:/Project/Pycharm project/ZZH/DL/Simple_RLHF-main/dataset/train_new.json', encoding='utf-8') as f:\n",
    "    lines = f.readlines()\n",
    "\n",
    "lines = random.sample(lines, k=32)\n",
    "lines = [json.loads(i) for i in lines]\n",
    "\n",
    "len(lines), lines[0]"
   ]
  },
  {
   "cell_type": "code",
   "execution_count": 12,
   "id": "2ceb369d",
   "metadata": {
    "ExecuteTime": {
     "end_time": "2025-01-12T07:18:25.381953Z",
     "start_time": "2025-01-12T07:17:54.666577400Z"
    }
   },
   "outputs": [
    {
     "name": "stdout",
     "output_type": "stream",
     "text": [
      " 两鬓斑白 都可认得你</s>\n",
      "兩鬢斑白 都可認得你\n",
      "===============\n",
      " 我唔认为了？呢唔认为嘅？</s>\n",
      "嗱，撞親嘞。係咪曳呢？咁貪玩！\n",
      "===============\n",
      " 以前他很婄，风一吹就会着凉</s>\n",
      "以前佢好婄，風一吹就會冷親\n",
      "===============\n",
      " 大商家将成本转嫁给消费者</s>\n",
      "大商家將成本轉嫁落消費者身上。\n",
      "===============\n",
      " 好有型啊！最后那段，很感人啊。</s>\n",
      "好有型啊！最後嗰度啊，幾感人啊。\n",
      "===============\n",
      " 何必玩不羁</s>\n",
      "何必玩不羈\n",
      "===============\n",
      " 我颈背后</s>\n",
      "繞在我頸背後，\n",
      "===============\n",
      " 喂！好久唔见了，最近怎么样？</s>\n",
      "喂！Connie！好耐冇見嚹喎，點啊，最近？\n",
      "===============\n",
      " 他们会讲社区做出很多贡献。</s>\n",
      "佢哋會為社區做出好多貢獻\n",
      "===============\n",
      " 我讲啊嘅心听老师讲啊。</s>\n",
      "畀心機聽先生講呀\n",
      "===============\n",
      " 不要搞我后面！</s>\n",
      "唔好搞我後面！\n",
      "===============\n",
      " 我自问也算係嘅人，但你嘅幽默感比我高十几倍</s>\n",
      "我自問都算個幾幽默既人 但係你幽默感比我真係高十幾二十倍\n",
      "===============\n",
      " 接下来嘅捷径肯定会越多。</s>\n",
      "嚟緊呢啲捷徑肯定越見越多\n",
      "===============\n",
      " 我荡然无存。</s>\n",
      "蕩然無存\n",
      "===============\n",
      " 斗氣</s>\n",
      "鬥氣\n",
      "===============\n",
      " 我先一分钟前经过旺角鸦兰街看到电视台采访六姑姐。</s>\n",
      "我五分鐘前行過旺角鴉蘭街見到電視台訪問六姑姐\n",
      "===============\n",
      " 我唔解让我唔决定我唔决定我唔决定我唔决定我唔决定我唔决定我唔决定我唔决定我唔决定我唔决定我唔决定我唔决定我唔决定我唔�决定我唔决定我唔决定我唔决定我唔决定我唔决定我唔决定我唔�决定我唔决定我唔决定我唔决定我唔�决定我唔决定我唔决\n",
      "彼此咁了解 让我决定我嘅快乐\n",
      "===============\n",
      " 很不舒服，睡不着觉</s>\n",
      "好唔安樂，瞓唔着覺噉喎。\n",
      "===============\n",
      " 飙眼泪</s>\n",
      "飆眼水\n",
      "===============\n",
      " 我认为杂。</s>\n",
      "豬雜\n",
      "===============\n",
      " 我便化乌有 到记者</s>\n",
      "我就化烏有\n",
      "===============\n",
      " 有手提电言真的很方便，大家随时随地都可以找到对方。</s>\n",
      "有手提電話真係方便，大家隨時隨地都可以揾到對方。\n",
      "===============\n",
      " 我爱空军炸毁了恐怖分子嘅恐怖分子嘅恐怖分子嘅恐怖分子嘅恐怖分子嘅恐怖分子嘅恐怖分子嘅恐怖分子嘅恐怖分子嘅恐怖分子嘅恐怖分子嘅恐怖分子嘅恐怖分子嘅恐怖分子嘅恐怖分子嘅恐怖分子嘅恐怖分子嘅恐怖分子嘅恐怖分子嘅恐怖分子嘅恐怖分子嘅恐怖分子嘅恐怖分子嘅恐怖分\n",
      "美國空軍炸毀咗恐怖分子嘅重要基地。\n",
      "===============\n",
      " 稟神嘅人</s>\n",
      "稟神\n",
      "===============\n",
      " 司机大哥麻烦快点，刚才在大埔同茂坊掉了手机。</s>\n",
      "司機大佬唔該快啲，頭先喺大埔同茂坊跌左部手機\n",
      "===============\n",
      " 我唔让我哋治他</s>\n",
      "等我嚟治佢\n",
      "===============\n",
      " 我认为人呢人</s>\n",
      "祈求天地放過一對戀人\n",
      "===============\n",
      " 从前多么登对 到時 到時 到時 到時 到時 到時 到時 到時 到時 到時 到時 到時 到時 到時 到時 到時 到時 到時 到時 到時 到時 到時 到時 到時 到時 到時 到時 到時 到時 到時 到時 到時 到時 到時 到時 到時 到時 到時 到時 到時 到時 到時 到時 到時 到時 到時 到時 到時 �\n",
      "从前几咁登对\n",
      "===============\n",
      "那个可怕。</s>\n",
      "世界太可怕\n",
      "===============\n",
      " 他刚劲霸气，兜面扔封辞职信在老板那里就嘭開走了！</s>\n",
      "佢啱啱勁霸氣，兜面掉封辭職信喺老細度就嘭門走咗！\n",
      "===============\n",
      " 小粒</s>\n",
      "細粒\n",
      "===============\n",
      " 我唔让人知道啦，臭屎密冚嘛。</s>\n",
      "呢啲嘢梗係唔俾人知啦，臭屎密冚𠺢嘛。\n",
      "===============\n"
     ]
    }
   ],
   "source": [
    "for data in lines:\n",
    "    input_ids, _ = tokenizer.encode(data['prompt'], max_length=256)\n",
    "    input_ids, attention_mask = tokenizer.pad_to_left(input_ids)\n",
    "\n",
    "    input_ids = input_ids.unsqueeze(0).to('cuda')\n",
    "    attention_mask = attention_mask.unsqueeze(0).to('cuda')\n",
    "\n",
    "    generate = model_actor.generate(input_ids=input_ids,\n",
    "                                    attention_mask=attention_mask,\n",
    "                                    max_length=512,\n",
    "                                    pad_token_id=tokenizer.pad_token_id,\n",
    "                                    eos_token_id=tokenizer.eos_token_id)\n",
    "\n",
    "    generate = generate[0, 256:].to('cpu')\n",
    "\n",
    "    print(tokenizer.decode(generate))\n",
    "    print(data['chosen'])\n",
    "    print('===============')"
   ]
  },
  {
   "cell_type": "code",
   "execution_count": null,
   "outputs": [],
   "source": [],
   "metadata": {
    "collapsed": false
   }
  }
 ],
 "metadata": {
  "kernelspec": {
   "name": "python3",
   "language": "python",
   "display_name": "Python 3 (ipykernel)"
  },
  "language_info": {
   "codemirror_mode": {
    "name": "ipython",
    "version": 3
   },
   "file_extension": ".py",
   "mimetype": "text/x-python",
   "name": "python",
   "nbconvert_exporter": "python",
   "pygments_lexer": "ipython3",
   "version": "3.10.13"
  }
 },
 "nbformat": 4,
 "nbformat_minor": 5
}
